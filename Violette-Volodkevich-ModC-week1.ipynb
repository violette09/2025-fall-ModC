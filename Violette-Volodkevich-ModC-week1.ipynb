{
 "cells": [
  {
   "cell_type": "code",
   "execution_count": null,
   "id": "caf828a3",
   "metadata": {},
   "outputs": [],
   "source": []
  },
  {
   "cell_type": "code",
   "execution_count": 1,
   "id": "af8f6827",
   "metadata": {},
   "outputs": [],
   "source": [
    "# Week 1 — Polynomial & Interactions + Multicollinearity (VIF)\n",
    "# Dataset: 'carclaims 12.csv' Target: `FraudFound` (1=fraud, 0=non-fraud)"
   ]
  },
  {
   "cell_type": "code",
   "execution_count": 2,
   "id": "36a89cdb",
   "metadata": {},
   "outputs": [],
   "source": [
    "import os, numpy as np, pandas as pd, matplotlib.pyplot as plt\n",
    "from sklearn.model_selection import train_test_split, StratifiedKFold\n",
    "from sklearn.preprocessing import StandardScaler, OneHotEncoder, PolynomialFeatures\n",
    "from sklearn.compose import ColumnTransformer\n",
    "from sklearn.pipeline import Pipeline\n",
    "from sklearn.impute import SimpleImputer\n",
    "from sklearn.linear_model import LogisticRegression\n",
    "from sklearn.metrics import accuracy_score, f1_score, roc_auc_score, average_precision_score, confusion_matrix, roc_curve, precision_recall_curve\n",
    "\n",
    "CSV = \"carclaims 12.csv\"\n",
    "df = pd.read_csv(CSV)\n",
    "df.columns = [c.strip() for c in df.columns]\n",
    "target = \"FraudFound\"\n",
    "\n",
    "# Map target to 0/1 if needed\n",
    "y_raw = df[target]\n",
    "y = y_raw if y_raw.dtype!=object else y_raw.astype(str).str.upper().map(\n",
    "    {\"Y\":1,\"YES\":1,\"1\":1,\"TRUE\":1,\"T\":1,\"N\":0,\"NO\":0,\"0\":0,\"FALSE\":0,\"F\":0}\n",
    ").astype(int)\n",
    "X = df.drop(columns=[target])\n",
    "\n",
    "num_cols = X.select_dtypes(include=[np.number]).columns.tolist()\n",
    "cat_cols = X.select_dtypes(exclude=[np.number]).columns.tolist()\n",
    "\n",
    "X_train, X_test, y_train, y_test = train_test_split(\n",
    "    X, y, test_size=0.2, stratify=y, random_state=42\n",
    ")\n"
   ]
  },
  {
   "cell_type": "code",
   "execution_count": 3,
   "id": "325a57cb",
   "metadata": {},
   "outputs": [
    {
     "name": "stdout",
     "output_type": "stream",
     "text": [
      "Requirement already satisfied: statsmodels in /usr/local/python/3.12.1/lib/python3.12/site-packages (0.14.5)\n",
      "Requirement already satisfied: numpy<3,>=1.22.3 in /home/codespace/.local/lib/python3.12/site-packages (from statsmodels) (2.3.1)\n",
      "Requirement already satisfied: scipy!=1.9.2,>=1.8 in /home/codespace/.local/lib/python3.12/site-packages (from statsmodels) (1.16.0)\n",
      "Requirement already satisfied: pandas!=2.1.0,>=1.4 in /home/codespace/.local/lib/python3.12/site-packages (from statsmodels) (2.3.1)\n",
      "Requirement already satisfied: patsy>=0.5.6 in /usr/local/python/3.12.1/lib/python3.12/site-packages (from statsmodels) (1.0.1)\n",
      "Requirement already satisfied: packaging>=21.3 in /home/codespace/.local/lib/python3.12/site-packages (from statsmodels) (25.0)\n",
      "Requirement already satisfied: python-dateutil>=2.8.2 in /home/codespace/.local/lib/python3.12/site-packages (from pandas!=2.1.0,>=1.4->statsmodels) (2.9.0.post0)\n",
      "Requirement already satisfied: pytz>=2020.1 in /home/codespace/.local/lib/python3.12/site-packages (from pandas!=2.1.0,>=1.4->statsmodels) (2025.2)\n",
      "Requirement already satisfied: tzdata>=2022.7 in /home/codespace/.local/lib/python3.12/site-packages (from pandas!=2.1.0,>=1.4->statsmodels) (2025.2)\n",
      "Requirement already satisfied: six>=1.5 in /home/codespace/.local/lib/python3.12/site-packages (from python-dateutil>=2.8.2->pandas!=2.1.0,>=1.4->statsmodels) (1.17.0)\n",
      "\n",
      "\u001b[1m[\u001b[0m\u001b[34;49mnotice\u001b[0m\u001b[1;39;49m]\u001b[0m\u001b[39;49m A new release of pip is available: \u001b[0m\u001b[31;49m25.1.1\u001b[0m\u001b[39;49m -> \u001b[0m\u001b[32;49m25.2\u001b[0m\n",
      "\u001b[1m[\u001b[0m\u001b[34;49mnotice\u001b[0m\u001b[1;39;49m]\u001b[0m\u001b[39;49m To update, run: \u001b[0m\u001b[32;49mpython -m pip install --upgrade pip\u001b[0m\n",
      "Note: you may need to restart the kernel to use updated packages.\n"
     ]
    },
    {
     "data": {
      "text/html": [
       "<div>\n",
       "<style scoped>\n",
       "    .dataframe tbody tr th:only-of-type {\n",
       "        vertical-align: middle;\n",
       "    }\n",
       "\n",
       "    .dataframe tbody tr th {\n",
       "        vertical-align: top;\n",
       "    }\n",
       "\n",
       "    .dataframe thead th {\n",
       "        text-align: right;\n",
       "    }\n",
       "</style>\n",
       "<table border=\"1\" class=\"dataframe\">\n",
       "  <thead>\n",
       "    <tr style=\"text-align: right;\">\n",
       "      <th></th>\n",
       "      <th>feature</th>\n",
       "      <th>VIF</th>\n",
       "    </tr>\n",
       "  </thead>\n",
       "  <tbody>\n",
       "    <tr>\n",
       "      <th>8</th>\n",
       "      <td>const</td>\n",
       "      <td>5.015198e+07</td>\n",
       "    </tr>\n",
       "    <tr>\n",
       "      <th>3</th>\n",
       "      <td>PolicyNumber</td>\n",
       "      <td>8.128460e+00</td>\n",
       "    </tr>\n",
       "    <tr>\n",
       "      <th>7</th>\n",
       "      <td>Year</td>\n",
       "      <td>8.128001e+00</td>\n",
       "    </tr>\n",
       "    <tr>\n",
       "      <th>0</th>\n",
       "      <td>WeekOfMonth</td>\n",
       "      <td>1.084914e+00</td>\n",
       "    </tr>\n",
       "    <tr>\n",
       "      <th>1</th>\n",
       "      <td>WeekOfMonthClaimed</td>\n",
       "      <td>1.084886e+00</td>\n",
       "    </tr>\n",
       "    <tr>\n",
       "      <th>2</th>\n",
       "      <td>Age</td>\n",
       "      <td>1.005812e+00</td>\n",
       "    </tr>\n",
       "    <tr>\n",
       "      <th>5</th>\n",
       "      <td>Deductible</td>\n",
       "      <td>1.005631e+00</td>\n",
       "    </tr>\n",
       "    <tr>\n",
       "      <th>6</th>\n",
       "      <td>DriverRating</td>\n",
       "      <td>1.000988e+00</td>\n",
       "    </tr>\n",
       "    <tr>\n",
       "      <th>4</th>\n",
       "      <td>RepNumber</td>\n",
       "      <td>1.000557e+00</td>\n",
       "    </tr>\n",
       "  </tbody>\n",
       "</table>\n",
       "</div>"
      ],
      "text/plain": [
       "              feature           VIF\n",
       "8               const  5.015198e+07\n",
       "3        PolicyNumber  8.128460e+00\n",
       "7                Year  8.128001e+00\n",
       "0         WeekOfMonth  1.084914e+00\n",
       "1  WeekOfMonthClaimed  1.084886e+00\n",
       "2                 Age  1.005812e+00\n",
       "5          Deductible  1.005631e+00\n",
       "6        DriverRating  1.000988e+00\n",
       "4           RepNumber  1.000557e+00"
      ]
     },
     "execution_count": 3,
     "metadata": {},
     "output_type": "execute_result"
    }
   ],
   "source": [
    "%pip install statsmodels\n",
    "\n",
    "from statsmodels.stats.outliers_influence import variance_inflation_factor\n",
    "\n",
    "X_num = X_train[num_cols].copy()\n",
    "X_num = X_num.replace([np.inf, -np.inf], np.nan)\n",
    "X_num = X_num.fillna(X_num.median(numeric_only=True))\n",
    "X_num_const = X_num.assign(const=1.0)\n",
    "vif = pd.DataFrame({\n",
    "    \"feature\": X_num_const.columns,\n",
    "    \"VIF\": [variance_inflation_factor(X_num_const.values, i) for i in range(X_num_const.shape[1])]\n",
    "}).sort_values(\"VIF\", ascending=False)\n",
    "vif.head(15)\n"
   ]
  },
  {
   "cell_type": "code",
   "execution_count": 4,
   "id": "fea037f2",
   "metadata": {},
   "outputs": [
    {
     "data": {
      "text/plain": [
       "(0.9396887159533074, 0.0, 0.8151310330682529, 0.1821128207152426)"
      ]
     },
     "execution_count": 4,
     "metadata": {},
     "output_type": "execute_result"
    }
   ],
   "source": [
    "# Keep polynomial expansion modest: up to 5 numeric features to prevent explosion\n",
    "poly_subset = num_cols[:min(5, len(num_cols))]\n",
    "\n",
    "numeric_poly = Pipeline([\n",
    "    (\"impute\", SimpleImputer(strategy=\"median\")),\n",
    "    (\"scale\", StandardScaler()),\n",
    "    (\"poly\", PolynomialFeatures(degree=2, include_bias=False))  # squares + pairwise interactions\n",
    "])\n",
    "categorical = Pipeline([\n",
    "    (\"impute\", SimpleImputer(strategy=\"most_frequent\")),\n",
    "    (\"onehot\", OneHotEncoder(handle_unknown=\"ignore\"))\n",
    "])\n",
    "\n",
    "pre_poly = ColumnTransformer([\n",
    "    (\"num_poly\", numeric_poly, poly_subset),\n",
    "    (\"cat\", categorical, cat_cols)\n",
    "], remainder=\"drop\")\n",
    "\n",
    "clf = Pipeline([\n",
    "    (\"pre\", pre_poly),\n",
    "    (\"logit\", LogisticRegression(max_iter=5000, solver=\"saga\", penalty=\"l2\"))\n",
    "])\n",
    "\n",
    "clf.fit(X_train, y_train)\n",
    "proba = clf.predict_proba(X_test)[:,1]\n",
    "pred = (proba >= 0.5).astype(int)\n",
    "\n",
    "acc = accuracy_score(y_test, pred)\n",
    "f1  = f1_score(y_test, pred)\n",
    "auc = roc_auc_score(y_test, proba)\n",
    "ap  = average_precision_score(y_test, proba)\n",
    "\n",
    "acc, f1, auc, ap\n"
   ]
  },
  {
   "cell_type": "code",
   "execution_count": 5,
   "id": "d2576907",
   "metadata": {},
   "outputs": [
    {
     "name": "stdout",
     "output_type": "stream",
     "text": [
      "Saved plots to figs_wk1/\n"
     ]
    }
   ],
   "source": [
    "os.makedirs(\"figs_wk1\", exist_ok=True)\n",
    "\n",
    "# ROC\n",
    "fpr, tpr, _ = roc_curve(y_test, proba)\n",
    "plt.figure(); plt.plot(fpr,tpr); plt.plot([0,1],[0,1],'--')\n",
    "plt.xlabel(\"False Positive Rate\"); plt.ylabel(\"True Positive Rate\"); plt.title(\"Week 1 — ROC\")\n",
    "plt.savefig(\"figs_wk1/roc.png\", bbox_inches=\"tight\"); plt.close()\n",
    "\n",
    "# PR\n",
    "prec, rec, _ = precision_recall_curve(y_test, proba)\n",
    "plt.figure(); plt.plot(rec,prec)\n",
    "plt.xlabel(\"Recall\"); plt.ylabel(\"Precision\"); plt.title(\"Week 1 — Precision-Recall\")\n",
    "plt.savefig(\"figs_wk1/pr.png\", bbox_inches=\"tight\"); plt.close()\n",
    "\n",
    "# Confusion Matrix\n",
    "cm = confusion_matrix(y_test, pred)\n",
    "plt.figure(); plt.imshow(cm)\n",
    "for (i,j),v in np.ndenumerate(cm): plt.text(j,i,str(v),ha='center',va='center')\n",
    "plt.title(\"Week 1 — Confusion Matrix\"); plt.xlabel(\"Predicted\"); plt.ylabel(\"Actual\")\n",
    "plt.savefig(\"figs_wk1/cm.png\", bbox_inches=\"tight\"); plt.close()\n",
    "\n",
    "print(\"Saved plots to figs_wk1/\")\n"
   ]
  },
  {
   "cell_type": "code",
   "execution_count": null,
   "id": "272ae406",
   "metadata": {},
   "outputs": [],
   "source": []
  }
 ],
 "metadata": {
  "kernelspec": {
   "display_name": "Python 3",
   "language": "python",
   "name": "python3"
  },
  "language_info": {
   "codemirror_mode": {
    "name": "ipython",
    "version": 3
   },
   "file_extension": ".py",
   "mimetype": "text/x-python",
   "name": "python",
   "nbconvert_exporter": "python",
   "pygments_lexer": "ipython3",
   "version": "3.12.1"
  }
 },
 "nbformat": 4,
 "nbformat_minor": 5
}
