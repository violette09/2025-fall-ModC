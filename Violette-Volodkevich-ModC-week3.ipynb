{
 "cells": [
  {
   "cell_type": "code",
   "execution_count": null,
   "id": "f14d00cf",
   "metadata": {},
   "outputs": [],
   "source": [
    "# Week 3 — Forward/Backward Selection + PCR-style (PCA + Logistic)\n",
    "#Dataset: `carclaims 12.csv` | Target: `FraudFound`\n"
   ]
  },
  {
   "cell_type": "code",
   "execution_count": 1,
   "id": "b44e87bc",
   "metadata": {},
   "outputs": [],
   "source": [
    "import os, numpy as np, pandas as pd, matplotlib.pyplot as plt\n",
    "from sklearn.model_selection import train_test_split, StratifiedKFold\n",
    "from sklearn.preprocessing import StandardScaler, OneHotEncoder\n",
    "from sklearn.compose import ColumnTransformer\n",
    "from sklearn.pipeline import Pipeline\n",
    "from sklearn.impute import SimpleImputer\n",
    "from sklearn.linear_model import LogisticRegression\n",
    "from sklearn.metrics import accuracy_score, f1_score, roc_auc_score, average_precision_score, confusion_matrix, roc_curve, precision_recall_curve\n",
    "from sklearn.feature_selection import SequentialFeatureSelector\n",
    "from sklearn.decomposition import PCA\n",
    "\n",
    "df = pd.read_csv(\"carclaims 12.csv\")\n",
    "df.columns = [c.strip() for c in df.columns]\n",
    "target = \"FraudFound\"\n",
    "yraw = df[target]\n",
    "y = yraw if yraw.dtype!=object else yraw.astype(str).str.upper().map(\n",
    "    {\"Y\":1,\"YES\":1,\"1\":1,\"TRUE\":1,\"T\":1,\"N\":0,\"NO\":0,\"0\":0,\"FALSE\":0,\"F\":0}\n",
    ").astype(int)\n",
    "X = df.drop(columns=[target])\n",
    "num_cols = X.select_dtypes(include=[np.number]).columns.tolist()\n",
    "cat_cols = X.select_dtypes(exclude=[np.number]).columns.tolist()\n",
    "X_train, X_test, y_train, y_test = train_test_split(X,y,test_size=0.2,stratify=y,random_state=42)\n",
    "\n",
    "numeric = Pipeline([(\"impute\", SimpleImputer(strategy=\"median\")), (\"scale\", StandardScaler())])\n",
    "categorical = Pipeline([(\"impute\", SimpleImputer(strategy=\"most_frequent\")), (\"onehot\", OneHotEncoder(handle_unknown=\"ignore\"))])\n",
    "pre = ColumnTransformer([(\"num\", numeric, num_cols), (\"cat\", categorical, cat_cols)])\n"
   ]
  },
  {
   "cell_type": "code",
   "execution_count": 2,
   "id": "bf19aba2",
   "metadata": {},
   "outputs": [
    {
     "data": {
      "text/plain": [
       "(['WeekOfMonth', 'WeekOfMonthClaimed', 'Age', 'PolicyNumber', 'RepNumber'],\n",
       " ['PolicyNumber', 'RepNumber', 'Deductible', 'DriverRating', 'Year'])"
      ]
     },
     "execution_count": 2,
     "metadata": {},
     "output_type": "execute_result"
    }
   ],
   "source": [
    "subset = num_cols[:min(10, len(num_cols))]\n",
    "base = Pipeline([(\"sc\", StandardScaler()), (\"clf\", LogisticRegression(max_iter=5000, solver=\"liblinear\"))])\n",
    "\n",
    "# Forward selection\n",
    "sfs_forward = SequentialFeatureSelector(base.named_steps[\"clf\"], n_features_to_select=min(5,len(subset)), direction=\"forward\")\n",
    "sfs_forward.fit(X_train[subset], y_train)\n",
    "forward_feats = [f for f, keep in zip(subset, sfs_forward.get_support()) if keep]\n",
    "\n",
    "# Backward selection\n",
    "sfs_backward = SequentialFeatureSelector(base.named_steps[\"clf\"], n_features_to_select=min(5,len(subset)), direction=\"backward\")\n",
    "sfs_backward.fit(X_train[subset], y_train)\n",
    "backward_feats = [f for f, keep in zip(subset, sfs_backward.get_support()) if keep]\n",
    "\n",
    "forward_feats, backward_feats\n"
   ]
  },
  {
   "cell_type": "code",
   "execution_count": 4,
   "id": "bd79399f",
   "metadata": {},
   "outputs": [
    {
     "data": {
      "text/plain": [
       "(0.9400129701686122, 0.0, 0.8004493627812015, 0.16894813178728255)"
      ]
     },
     "execution_count": 4,
     "metadata": {},
     "output_type": "execute_result"
    }
   ],
   "source": [
    "from sklearn.preprocessing import FunctionTransformer\n",
    "\n",
    "pca_ct = ColumnTransformer([\n",
    "    (\"num\", numeric, num_cols),\n",
    "    (\"cat\", categorical, cat_cols)\n",
    "])\n",
    "\n",
    "pca_logit = Pipeline([\n",
    "    (\"pre\", pca_ct),\n",
    "    # ColumnTransformer with OneHotEncoder produces a sparse matrix.\n",
    "    # Convert to dense before PCA so PCA with svd_solver=\"full\" can operate.\n",
    "    (\"to_dense\", FunctionTransformer(lambda X: X.toarray() if hasattr(X, \"toarray\") else X, accept_sparse=True)),\n",
    "    (\"pca\", PCA(n_components=0.90, svd_solver=\"full\")),  # keep ~90% variance\n",
    "    (\"clf\", LogisticRegression(max_iter=5000))\n",
    "])\n",
    "\n",
    "pca_logit.fit(X_train, y_train)\n",
    "proba = pca_logit.predict_proba(X_test)[:,1]\n",
    "pred = (proba>=0.5).astype(int)\n",
    "\n",
    "acc = accuracy_score(y_test, pred)\n",
    "f1  = f1_score(y_test, pred)\n",
    "auc = roc_auc_score(y_test, proba)\n",
    "ap  = average_precision_score(y_test, proba)\n",
    "acc, f1, auc, ap\n"
   ]
  },
  {
   "cell_type": "code",
   "execution_count": 5,
   "id": "640c020d",
   "metadata": {},
   "outputs": [
    {
     "name": "stdout",
     "output_type": "stream",
     "text": [
      "Saved plots to figs_wk3/\n"
     ]
    }
   ],
   "source": [
    "os.makedirs(\"figs_wk3\", exist_ok=True)\n",
    "\n",
    "# ROC\n",
    "fpr, tpr, _ = roc_curve(y_test, proba)\n",
    "plt.figure(); plt.plot(fpr,tpr); plt.plot([0,1],[0,1],'--')\n",
    "plt.xlabel(\"False Positive Rate\"); plt.ylabel(\"True Positive Rate\"); plt.title(\"Week 3 — ROC (PCA+Logit)\")\n",
    "plt.savefig(\"figs_wk3/roc.png\", bbox_inches=\"tight\"); plt.close()\n",
    "\n",
    "# PR\n",
    "prec, rec, _ = precision_recall_curve(y_test, proba)\n",
    "plt.figure(); plt.plot(rec,prec)\n",
    "plt.xlabel(\"Recall\"); plt.ylabel(\"Precision\"); plt.title(\"Week 3 — Precision-Recall (PCA+Logit)\")\n",
    "plt.savefig(\"figs_wk3/pr.png\", bbox_inches=\"tight\"); plt.close()\n",
    "\n",
    "# Confusion\n",
    "cm = confusion_matrix(y_test, pred)\n",
    "plt.figure(); plt.imshow(cm)\n",
    "for (i,j),v in np.ndenumerate(cm): plt.text(j,i,str(v),ha='center',va='center')\n",
    "plt.title(\"Week 3 — Confusion Matrix (PCA+Logit)\"); plt.xlabel(\"Predicted\"); plt.ylabel(\"Actual\")\n",
    "plt.savefig(\"figs_wk3/cm.png\", bbox_inches=\"tight\"); plt.close()\n",
    "\n",
    "print(\"Saved plots to figs_wk3/\")\n"
   ]
  },
  {
   "cell_type": "code",
   "execution_count": null,
   "id": "877402ca",
   "metadata": {},
   "outputs": [],
   "source": []
  }
 ],
 "metadata": {
  "kernelspec": {
   "display_name": "Python 3",
   "language": "python",
   "name": "python3"
  },
  "language_info": {
   "codemirror_mode": {
    "name": "ipython",
    "version": 3
   },
   "file_extension": ".py",
   "mimetype": "text/x-python",
   "name": "python",
   "nbconvert_exporter": "python",
   "pygments_lexer": "ipython3",
   "version": "3.12.1"
  }
 },
 "nbformat": 4,
 "nbformat_minor": 5
}
